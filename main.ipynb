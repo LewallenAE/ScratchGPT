{
 "cells": [
  {
   "cell_type": "markdown",
   "metadata": {},
   "source": ["# 🔥 ScratchGPT: Learn GPT by Building It

Step through each section to understand how a GPT-like transformer model works."]
  },
  {
   "cell_type": "code",
   "execution_count": null,
   "metadata": {},
   "outputs": [],
   "source": ["from scratch_tokenizer import CharTokenizer
text = "hello world"
tok = CharTokenizer(text)
encoded = tok.encode("hello")
print("Encoded:", encoded)
print("Decoded:", tok.decode(encoded))"]
  }
 ],
 "metadata": {
  "kernelspec": {
   "display_name": "Python 3",
   "language": "python",
   "name": "python3"
  },
  "language_info": {
   "name": "python",
   "version": "3.8"
  }
 },
 "nbformat": 4,
 "nbformat_minor": 2
}
